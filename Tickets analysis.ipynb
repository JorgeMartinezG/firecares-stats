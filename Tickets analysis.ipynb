{
 "cells": [
  {
   "cell_type": "markdown",
   "metadata": {},
   "source": [
    "# Prominent Edge - ticket status"
   ]
  },
  {
   "cell_type": "markdown",
   "metadata": {},
   "source": [
    "Make sure to install seaborn and pandas modules\n",
    "\n",
    "```sh\n",
    "pip install seaborn pandas\n",
    "```"
   ]
  },
  {
   "cell_type": "code",
   "execution_count": 38,
   "metadata": {
    "collapsed": true
   },
   "outputs": [],
   "source": [
    "import pandas as pd\n",
    "import seaborn as sns\n",
    "\n",
    "from datetime import datetime\n",
    "\n",
    "sns.set()\n",
    "%matplotlib inline"
   ]
  },
  {
   "cell_type": "markdown",
   "metadata": {},
   "source": [
    "### Reading generated csv files."
   ]
  },
  {
   "cell_type": "code",
   "execution_count": 2,
   "metadata": {},
   "outputs": [
    {
     "data": {
      "text/html": [
       "<div>\n",
       "<style>\n",
       "    .dataframe thead tr:only-child th {\n",
       "        text-align: right;\n",
       "    }\n",
       "\n",
       "    .dataframe thead th {\n",
       "        text-align: left;\n",
       "    }\n",
       "\n",
       "    .dataframe tbody tr th {\n",
       "        vertical-align: top;\n",
       "    }\n",
       "</style>\n",
       "<table border=\"1\" class=\"dataframe\">\n",
       "  <thead>\n",
       "    <tr style=\"text-align: right;\">\n",
       "      <th></th>\n",
       "      <th>Unnamed: 0</th>\n",
       "      <th>id</th>\n",
       "      <th>subject</th>\n",
       "      <th>status_name</th>\n",
       "      <th>assigned_group</th>\n",
       "      <th>created_at</th>\n",
       "    </tr>\n",
       "  </thead>\n",
       "  <tbody>\n",
       "    <tr>\n",
       "      <th>0</th>\n",
       "      <td>0</td>\n",
       "      <td>1484</td>\n",
       "      <td>FireCARES - Access.</td>\n",
       "      <td>open</td>\n",
       "      <td>Unassigned</td>\n",
       "      <td>2018-02-07T17:20:27Z</td>\n",
       "    </tr>\n",
       "    <tr>\n",
       "      <th>1</th>\n",
       "      <td>1</td>\n",
       "      <td>1482</td>\n",
       "      <td>Department administrator request - dvanvalkenb...</td>\n",
       "      <td>closed</td>\n",
       "      <td>Accounts</td>\n",
       "      <td>2018-02-06T23:44:27Z</td>\n",
       "    </tr>\n",
       "    <tr>\n",
       "      <th>2</th>\n",
       "      <td>2</td>\n",
       "      <td>1481</td>\n",
       "      <td>FireCARES - Access.</td>\n",
       "      <td>open</td>\n",
       "      <td>Unassigned</td>\n",
       "      <td>2018-02-06T23:08:27Z</td>\n",
       "    </tr>\n",
       "    <tr>\n",
       "      <th>3</th>\n",
       "      <td>3</td>\n",
       "      <td>1480</td>\n",
       "      <td>Contact request submitted</td>\n",
       "      <td>open</td>\n",
       "      <td>Department and station data updates</td>\n",
       "      <td>2018-02-06T22:20:27Z</td>\n",
       "    </tr>\n",
       "    <tr>\n",
       "      <th>4</th>\n",
       "      <td>4</td>\n",
       "      <td>1479</td>\n",
       "      <td>Contact request submitted</td>\n",
       "      <td>open</td>\n",
       "      <td>Department and station data updates</td>\n",
       "      <td>2018-02-06T22:20:27Z</td>\n",
       "    </tr>\n",
       "  </tbody>\n",
       "</table>\n",
       "</div>"
      ],
      "text/plain": [
       "   Unnamed: 0    id                                            subject  \\\n",
       "0           0  1484                                FireCARES - Access.   \n",
       "1           1  1482  Department administrator request - dvanvalkenb...   \n",
       "2           2  1481                                FireCARES - Access.   \n",
       "3           3  1480                          Contact request submitted   \n",
       "4           4  1479                          Contact request submitted   \n",
       "\n",
       "  status_name                       assigned_group            created_at  \n",
       "0        open                           Unassigned  2018-02-07T17:20:27Z  \n",
       "1      closed                             Accounts  2018-02-06T23:44:27Z  \n",
       "2        open                           Unassigned  2018-02-06T23:08:27Z  \n",
       "3        open  Department and station data updates  2018-02-06T22:20:27Z  \n",
       "4        open  Department and station data updates  2018-02-06T22:20:27Z  "
      ]
     },
     "execution_count": 2,
     "metadata": {},
     "output_type": "execute_result"
    }
   ],
   "source": [
    "df = pd.read_csv('tickets.csv')\n",
    "df.head()"
   ]
  },
  {
   "cell_type": "markdown",
   "metadata": {},
   "source": [
    "### Data processing"
   ]
  },
  {
   "cell_type": "code",
   "execution_count": 5,
   "metadata": {},
   "outputs": [
    {
     "data": {
      "text/html": [
       "<div>\n",
       "<style>\n",
       "    .dataframe thead tr:only-child th {\n",
       "        text-align: right;\n",
       "    }\n",
       "\n",
       "    .dataframe thead th {\n",
       "        text-align: left;\n",
       "    }\n",
       "\n",
       "    .dataframe tbody tr th {\n",
       "        vertical-align: top;\n",
       "    }\n",
       "</style>\n",
       "<table border=\"1\" class=\"dataframe\">\n",
       "  <thead>\n",
       "    <tr style=\"text-align: right;\">\n",
       "      <th></th>\n",
       "      <th>Unnamed: 0</th>\n",
       "      <th>id</th>\n",
       "      <th>subject</th>\n",
       "      <th>status_name</th>\n",
       "      <th>assigned_group</th>\n",
       "      <th>created_at</th>\n",
       "      <th>datetime</th>\n",
       "      <th>year</th>\n",
       "    </tr>\n",
       "  </thead>\n",
       "  <tbody>\n",
       "    <tr>\n",
       "      <th>0</th>\n",
       "      <td>0</td>\n",
       "      <td>1484</td>\n",
       "      <td>FireCARES - Access.</td>\n",
       "      <td>open</td>\n",
       "      <td>Unassigned</td>\n",
       "      <td>2018-02-07T17:20:27Z</td>\n",
       "      <td>2018-02-07 17:20:27</td>\n",
       "      <td>2018</td>\n",
       "    </tr>\n",
       "    <tr>\n",
       "      <th>1</th>\n",
       "      <td>1</td>\n",
       "      <td>1482</td>\n",
       "      <td>Department administrator request - dvanvalkenb...</td>\n",
       "      <td>closed</td>\n",
       "      <td>Accounts</td>\n",
       "      <td>2018-02-06T23:44:27Z</td>\n",
       "      <td>2018-02-06 23:44:27</td>\n",
       "      <td>2018</td>\n",
       "    </tr>\n",
       "    <tr>\n",
       "      <th>2</th>\n",
       "      <td>2</td>\n",
       "      <td>1481</td>\n",
       "      <td>FireCARES - Access.</td>\n",
       "      <td>open</td>\n",
       "      <td>Unassigned</td>\n",
       "      <td>2018-02-06T23:08:27Z</td>\n",
       "      <td>2018-02-06 23:08:27</td>\n",
       "      <td>2018</td>\n",
       "    </tr>\n",
       "    <tr>\n",
       "      <th>3</th>\n",
       "      <td>3</td>\n",
       "      <td>1480</td>\n",
       "      <td>Contact request submitted</td>\n",
       "      <td>open</td>\n",
       "      <td>Department and station data updates</td>\n",
       "      <td>2018-02-06T22:20:27Z</td>\n",
       "      <td>2018-02-06 22:20:27</td>\n",
       "      <td>2018</td>\n",
       "    </tr>\n",
       "    <tr>\n",
       "      <th>4</th>\n",
       "      <td>4</td>\n",
       "      <td>1479</td>\n",
       "      <td>Contact request submitted</td>\n",
       "      <td>open</td>\n",
       "      <td>Department and station data updates</td>\n",
       "      <td>2018-02-06T22:20:27Z</td>\n",
       "      <td>2018-02-06 22:20:27</td>\n",
       "      <td>2018</td>\n",
       "    </tr>\n",
       "  </tbody>\n",
       "</table>\n",
       "</div>"
      ],
      "text/plain": [
       "   Unnamed: 0    id                                            subject  \\\n",
       "0           0  1484                                FireCARES - Access.   \n",
       "1           1  1482  Department administrator request - dvanvalkenb...   \n",
       "2           2  1481                                FireCARES - Access.   \n",
       "3           3  1480                          Contact request submitted   \n",
       "4           4  1479                          Contact request submitted   \n",
       "\n",
       "  status_name                       assigned_group            created_at  \\\n",
       "0        open                           Unassigned  2018-02-07T17:20:27Z   \n",
       "1      closed                             Accounts  2018-02-06T23:44:27Z   \n",
       "2        open                           Unassigned  2018-02-06T23:08:27Z   \n",
       "3        open  Department and station data updates  2018-02-06T22:20:27Z   \n",
       "4        open  Department and station data updates  2018-02-06T22:20:27Z   \n",
       "\n",
       "             datetime  year  \n",
       "0 2018-02-07 17:20:27  2018  \n",
       "1 2018-02-06 23:44:27  2018  \n",
       "2 2018-02-06 23:08:27  2018  \n",
       "3 2018-02-06 22:20:27  2018  \n",
       "4 2018-02-06 22:20:27  2018  "
      ]
     },
     "execution_count": 5,
     "metadata": {},
     "output_type": "execute_result"
    }
   ],
   "source": [
    "df['datetime'] = pd.to_datetime(df['created_at'])\n",
    "df['year'] = df['datetime'].dt.year\n",
    "df.head()"
   ]
  },
  {
   "cell_type": "code",
   "execution_count": 13,
   "metadata": {},
   "outputs": [],
   "source": [
    "df_groups = df.groupby(['year', 'status_name', 'assigned_group']).size().reset_index(name='count')"
   ]
  },
  {
   "cell_type": "markdown",
   "metadata": {},
   "source": [
    "### Generating result for 2017"
   ]
  },
  {
   "cell_type": "code",
   "execution_count": 33,
   "metadata": {},
   "outputs": [
    {
     "data": {
      "text/plain": [
       "<matplotlib.axes._subplots.AxesSubplot at 0x10b1ad588>"
      ]
     },
     "execution_count": 33,
     "metadata": {},
     "output_type": "execute_result"
    },
    {
     "data": {
      "image/png": "[encoded data removed]",
      "text/plain": [
       "<matplotlib.figure.Figure at 0x10b2a81d0>"
      ]
     },
     "metadata": {},
     "output_type": "display_data"
    }
   ],
   "source": [
    "df_grid = df_groups.loc[(df_groups['year'] == 2017)]\n",
    "df_heatmap = df_grid.pivot(index='assigned_group', columns='status_name', values='count')\n",
    "sns.heatmap(df_heatmap, annot=True,cbar=False)"
   ]
  },
  {
   "cell_type": "markdown",
   "metadata": {},
   "source": [
    "### Generating result for 2018"
   ]
  },
  {
   "cell_type": "code",
   "execution_count": 61,
   "metadata": {},
   "outputs": [
    {
     "data": {
      "text/plain": [
       "<matplotlib.axes._subplots.AxesSubplot at 0x10b143ef0>"
      ]
     },
     "execution_count": 61,
     "metadata": {},
     "output_type": "execute_result"
    },
    {
     "data": {
      "image/png": "[encoded data removed]",
      "text/plain": [
       "<matplotlib.figure.Figure at 0x10af61f28>"
      ]
     },
     "metadata": {},
     "output_type": "display_data"
    }
   ],
   "source": [
    "df_grid = df_groups.loc[(df_groups['year'] == 2018)]\n",
    "df_heatmap = df_grid.pivot(index='assigned_group', columns='status_name', values='count')\n",
    "sns.heatmap(df_heatmap, annot=True,cbar=False, cmap='BuGn')"
   ]
  },
  {
   "cell_type": "markdown",
   "metadata": {},
   "source": [
    "## Measuring time for open tickets"
   ]
  },
  {
   "cell_type": "code",
   "execution_count": 59,
   "metadata": {},
   "outputs": [
    {
     "name": "stderr",
     "output_type": "stream",
     "text": [
      "/venvs/pdi/lib/python3.5/site-packages/ipykernel_launcher.py:4: SettingWithCopyWarning: \n",
      "A value is trying to be set on a copy of a slice from a DataFrame.\n",
      "Try using .loc[row_indexer,col_indexer] = value instead\n",
      "\n",
      "See the caveats in the documentation: http://pandas.pydata.org/pandas-docs/stable/indexing.html#indexing-view-versus-copy\n",
      "  after removing the cwd from sys.path.\n",
      "/venvs/pdi/lib/python3.5/site-packages/ipykernel_launcher.py:5: SettingWithCopyWarning: \n",
      "A value is trying to be set on a copy of a slice from a DataFrame\n",
      "\n",
      "See the caveats in the documentation: http://pandas.pydata.org/pandas-docs/stable/indexing.html#indexing-view-versus-copy\n",
      "  \"\"\"\n"
     ]
    },
    {
     "data": {
      "text/html": [
       "<div>\n",
       "<style>\n",
       "    .dataframe thead tr:only-child th {\n",
       "        text-align: right;\n",
       "    }\n",
       "\n",
       "    .dataframe thead th {\n",
       "        text-align: left;\n",
       "    }\n",
       "\n",
       "    .dataframe tbody tr th {\n",
       "        vertical-align: top;\n",
       "    }\n",
       "</style>\n",
       "<table border=\"1\" class=\"dataframe\">\n",
       "  <thead>\n",
       "    <tr style=\"text-align: right;\">\n",
       "      <th></th>\n",
       "      <th>Unnamed: 0</th>\n",
       "      <th>id</th>\n",
       "      <th>subject</th>\n",
       "      <th>status_name</th>\n",
       "      <th>assigned_group</th>\n",
       "      <th>created_at</th>\n",
       "      <th>datetime</th>\n",
       "      <th>year</th>\n",
       "      <th>delta_days</th>\n",
       "    </tr>\n",
       "  </thead>\n",
       "  <tbody>\n",
       "    <tr>\n",
       "      <th>557</th>\n",
       "      <td>557</td>\n",
       "      <td>36</td>\n",
       "      <td>FW: FireCARES - Access.</td>\n",
       "      <td>resolved</td>\n",
       "      <td>Unassigned</td>\n",
       "      <td>2017-04-10T17:16:18Z</td>\n",
       "      <td>2017-04-10 17:16:18</td>\n",
       "      <td>2017</td>\n",
       "      <td>302</td>\n",
       "    </tr>\n",
       "    <tr>\n",
       "      <th>550</th>\n",
       "      <td>550</td>\n",
       "      <td>60</td>\n",
       "      <td>Department administrator request - a.olesen@ce...</td>\n",
       "      <td>resolved</td>\n",
       "      <td>Accounts</td>\n",
       "      <td>2017-04-16T23:10:57Z</td>\n",
       "      <td>2017-04-16 23:10:57</td>\n",
       "      <td>2017</td>\n",
       "      <td>296</td>\n",
       "    </tr>\n",
       "    <tr>\n",
       "      <th>549</th>\n",
       "      <td>549</td>\n",
       "      <td>61</td>\n",
       "      <td>Department administrator request - bmajor@ci.f...</td>\n",
       "      <td>resolved</td>\n",
       "      <td>Accounts</td>\n",
       "      <td>2017-04-17T15:32:58Z</td>\n",
       "      <td>2017-04-17 15:32:58</td>\n",
       "      <td>2017</td>\n",
       "      <td>295</td>\n",
       "    </tr>\n",
       "    <tr>\n",
       "      <th>543</th>\n",
       "      <td>543</td>\n",
       "      <td>89</td>\n",
       "      <td>FireCARES - New feedback received.</td>\n",
       "      <td>resolved</td>\n",
       "      <td>Unassigned</td>\n",
       "      <td>2017-04-21T20:27:58Z</td>\n",
       "      <td>2017-04-21 20:27:58</td>\n",
       "      <td>2017</td>\n",
       "      <td>291</td>\n",
       "    </tr>\n",
       "    <tr>\n",
       "      <th>542</th>\n",
       "      <td>542</td>\n",
       "      <td>97</td>\n",
       "      <td>Department administrator request - yanceya@min...</td>\n",
       "      <td>resolved</td>\n",
       "      <td>Accounts</td>\n",
       "      <td>2017-04-23T13:30:43Z</td>\n",
       "      <td>2017-04-23 13:30:43</td>\n",
       "      <td>2017</td>\n",
       "      <td>290</td>\n",
       "    </tr>\n",
       "  </tbody>\n",
       "</table>\n",
       "</div>"
      ],
      "text/plain": [
       "     Unnamed: 0  id                                            subject  \\\n",
       "557         557  36                            FW: FireCARES - Access.   \n",
       "550         550  60  Department administrator request - a.olesen@ce...   \n",
       "549         549  61  Department administrator request - bmajor@ci.f...   \n",
       "543         543  89                 FireCARES - New feedback received.   \n",
       "542         542  97  Department administrator request - yanceya@min...   \n",
       "\n",
       "    status_name assigned_group            created_at            datetime  \\\n",
       "557    resolved     Unassigned  2017-04-10T17:16:18Z 2017-04-10 17:16:18   \n",
       "550    resolved       Accounts  2017-04-16T23:10:57Z 2017-04-16 23:10:57   \n",
       "549    resolved       Accounts  2017-04-17T15:32:58Z 2017-04-17 15:32:58   \n",
       "543    resolved     Unassigned  2017-04-21T20:27:58Z 2017-04-21 20:27:58   \n",
       "542    resolved       Accounts  2017-04-23T13:30:43Z 2017-04-23 13:30:43   \n",
       "\n",
       "     year  delta_days  \n",
       "557  2017         302  \n",
       "550  2017         296  \n",
       "549  2017         295  \n",
       "543  2017         291  \n",
       "542  2017         290  "
      ]
     },
     "execution_count": 59,
     "metadata": {},
     "output_type": "execute_result"
    }
   ],
   "source": [
    "not_closed_df = df.loc[(df['status_name'] != 'closed')]\n",
    "date_today = datetime.today()\n",
    "\n",
    "not_closed_df['delta_days'] = abs(not_closed_df['datetime'] - date_today).astype('timedelta64[D]').astype('int')\n",
    "not_closed_df.sort_values(by='delta_days', ascending=False, inplace=True)\n",
    "not_closed_df.head()"
   ]
  }
 ],
 "metadata": {
  "kernelspec": {
   "display_name": "Python 3",
   "language": "python",
   "name": "python3"
  },
  "language_info": {
   "codemirror_mode": {
    "name": "ipython",
    "version": 3
   },
   "file_extension": ".py",
   "mimetype": "text/x-python",
   "name": "python",
   "nbconvert_exporter": "python",
   "pygments_lexer": "ipython3",
   "version": "3.5.1"
  }
 },
 "nbformat": 4,
 "nbformat_minor": 2
}
