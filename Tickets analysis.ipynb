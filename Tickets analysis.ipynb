{
 "cells": [
  {
   "cell_type": "markdown",
   "metadata": {},
   "source": [
    "# Prominent Edge - ticket status"
   ]
  },
  {
   "cell_type": "markdown",
   "metadata": {},
   "source": [
    "Make sure to install seaborn and pandas modules\n",
    "\n",
    "```sh\n",
    "pip install seaborn pandas\n",
    "```"
   ]
  },
  {
   "cell_type": "code",
   "execution_count": 112,
   "metadata": {
    "collapsed": true
   },
   "outputs": [],
   "source": [
    "import pandas as pd\n",
    "import seaborn as sns\n",
    "\n",
    "import warnings\n",
    "warnings.filterwarnings('ignore')\n",
    "\n",
    "from datetime import datetime\n",
    "\n",
    "from matplotlib import pyplot as plt\n",
    "\n",
    "sns.set()\n",
    "%matplotlib inline"
   ]
  },
  {
   "cell_type": "markdown",
   "metadata": {},
   "source": [
    "### Reading generated csv files."
   ]
  },
  {
   "cell_type": "code",
   "execution_count": 73,
   "metadata": {},
   "outputs": [
    {
     "data": {
      "text/html": [
       "<div>\n",
       "<style>\n",
       "    .dataframe thead tr:only-child th {\n",
       "        text-align: right;\n",
       "    }\n",
       "\n",
       "    .dataframe thead th {\n",
       "        text-align: left;\n",
       "    }\n",
       "\n",
       "    .dataframe tbody tr th {\n",
       "        vertical-align: top;\n",
       "    }\n",
       "</style>\n",
       "<table border=\"1\" class=\"dataframe\">\n",
       "  <thead>\n",
       "    <tr style=\"text-align: right;\">\n",
       "      <th></th>\n",
       "      <th>Unnamed: 0</th>\n",
       "      <th>id</th>\n",
       "      <th>subject</th>\n",
       "      <th>status_name</th>\n",
       "      <th>assigned_group</th>\n",
       "      <th>created_at</th>\n",
       "      <th>updated_at</th>\n",
       "    </tr>\n",
       "  </thead>\n",
       "  <tbody>\n",
       "    <tr>\n",
       "      <th>0</th>\n",
       "      <td>0</td>\n",
       "      <td>1494</td>\n",
       "      <td>Contact request submitted</td>\n",
       "      <td>open</td>\n",
       "      <td>Unassigned</td>\n",
       "      <td>2018-02-08 16:33:18</td>\n",
       "      <td>2018-02-08 16:33:18</td>\n",
       "    </tr>\n",
       "    <tr>\n",
       "      <th>1</th>\n",
       "      <td>1</td>\n",
       "      <td>1493</td>\n",
       "      <td>User name &amp; password</td>\n",
       "      <td>open</td>\n",
       "      <td>Unassigned</td>\n",
       "      <td>2018-02-08 16:30:12</td>\n",
       "      <td>2018-02-08 16:30:12</td>\n",
       "    </tr>\n",
       "    <tr>\n",
       "      <th>2</th>\n",
       "      <td>2</td>\n",
       "      <td>1492</td>\n",
       "      <td>FireCARES - Access.</td>\n",
       "      <td>open</td>\n",
       "      <td>Unassigned</td>\n",
       "      <td>2018-02-08 15:08:27</td>\n",
       "      <td>2018-02-08 15:08:27</td>\n",
       "    </tr>\n",
       "    <tr>\n",
       "      <th>3</th>\n",
       "      <td>3</td>\n",
       "      <td>1491</td>\n",
       "      <td>FireCARES - Access.</td>\n",
       "      <td>open</td>\n",
       "      <td>Unassigned</td>\n",
       "      <td>2018-02-08 14:56:27</td>\n",
       "      <td>2018-02-08 14:56:27</td>\n",
       "    </tr>\n",
       "    <tr>\n",
       "      <th>4</th>\n",
       "      <td>4</td>\n",
       "      <td>1490</td>\n",
       "      <td>Department administrator request - nealon.thom...</td>\n",
       "      <td>closed</td>\n",
       "      <td>Accounts</td>\n",
       "      <td>2018-02-08 06:08:27</td>\n",
       "      <td>2018-02-08 14:41:45</td>\n",
       "    </tr>\n",
       "  </tbody>\n",
       "</table>\n",
       "</div>"
      ],
      "text/plain": [
       "   Unnamed: 0    id                                            subject  \\\n",
       "0           0  1494                          Contact request submitted   \n",
       "1           1  1493                               User name & password   \n",
       "2           2  1492                                FireCARES - Access.   \n",
       "3           3  1491                                FireCARES - Access.   \n",
       "4           4  1490  Department administrator request - nealon.thom...   \n",
       "\n",
       "  status_name assigned_group          created_at          updated_at  \n",
       "0        open     Unassigned 2018-02-08 16:33:18 2018-02-08 16:33:18  \n",
       "1        open     Unassigned 2018-02-08 16:30:12 2018-02-08 16:30:12  \n",
       "2        open     Unassigned 2018-02-08 15:08:27 2018-02-08 15:08:27  \n",
       "3        open     Unassigned 2018-02-08 14:56:27 2018-02-08 14:56:27  \n",
       "4      closed       Accounts 2018-02-08 06:08:27 2018-02-08 14:41:45  "
      ]
     },
     "execution_count": 73,
     "metadata": {},
     "output_type": "execute_result"
    }
   ],
   "source": [
    "df = pd.read_csv('tickets.csv')\n",
    "df['created_at'] = pd.to_datetime(df['created_at'])\n",
    "df['updated_at'] = pd.to_datetime(df['updated_at'])\n",
    "df.head()"
   ]
  },
  {
   "cell_type": "markdown",
   "metadata": {},
   "source": [
    "### Data processing"
   ]
  },
  {
   "cell_type": "markdown",
   "metadata": {},
   "source": [
    "### Modified 'resolved' value to 'closed'"
   ]
  },
  {
   "cell_type": "code",
   "execution_count": 74,
   "metadata": {
    "collapsed": true
   },
   "outputs": [],
   "source": [
    "df.loc[df['status_name'] == 'closed', 'status_name'] = 'resolved'"
   ]
  },
  {
   "cell_type": "markdown",
   "metadata": {},
   "source": [
    "### Generating heatmap"
   ]
  },
  {
   "cell_type": "code",
   "execution_count": 75,
   "metadata": {},
   "outputs": [
    {
     "data": {
      "text/plain": [
       "<matplotlib.axes._subplots.AxesSubplot at 0x11174f4a8>"
      ]
     },
     "execution_count": 75,
     "metadata": {},
     "output_type": "execute_result"
    },
    {
     "data": {
      "image/png": "[encoded data removed]",
      "text/plain": [
       "<matplotlib.figure.Figure at 0x1113add30>"
      ]
     },
     "metadata": {},
     "output_type": "display_data"
    }
   ],
   "source": [
    "df_groups = df.groupby(['status_name', 'assigned_group']).size().reset_index(name='count')\n",
    "df_heatmap = df_groups.pivot_table(index='assigned_group', columns='status_name', values='count', fill_value=0)\n",
    "sns.heatmap(df_heatmap, annot=True, fmt=\"d\", cmap='BuGn')"
   ]
  },
  {
   "cell_type": "markdown",
   "metadata": {},
   "source": [
    "## Measuring time for open tickets"
   ]
  },
  {
   "cell_type": "code",
   "execution_count": 78,
   "metadata": {},
   "outputs": [
    {
     "data": {
      "text/html": [
       "<div>\n",
       "<style>\n",
       "    .dataframe thead tr:only-child th {\n",
       "        text-align: right;\n",
       "    }\n",
       "\n",
       "    .dataframe thead th {\n",
       "        text-align: left;\n",
       "    }\n",
       "\n",
       "    .dataframe tbody tr th {\n",
       "        vertical-align: top;\n",
       "    }\n",
       "</style>\n",
       "<table border=\"1\" class=\"dataframe\">\n",
       "  <thead>\n",
       "    <tr style=\"text-align: right;\">\n",
       "      <th></th>\n",
       "      <th>Unnamed: 0</th>\n",
       "      <th>id</th>\n",
       "      <th>subject</th>\n",
       "      <th>status_name</th>\n",
       "      <th>assigned_group</th>\n",
       "      <th>created_at</th>\n",
       "      <th>updated_at</th>\n",
       "      <th>delta_days</th>\n",
       "    </tr>\n",
       "  </thead>\n",
       "  <tbody>\n",
       "    <tr>\n",
       "      <th>546</th>\n",
       "      <td>546</td>\n",
       "      <td>112</td>\n",
       "      <td>Contact request submitted</td>\n",
       "      <td>pending</td>\n",
       "      <td>Unassigned</td>\n",
       "      <td>2017-04-25 14:46:36</td>\n",
       "      <td>2017-06-16 12:52:33</td>\n",
       "      <td>288</td>\n",
       "    </tr>\n",
       "    <tr>\n",
       "      <th>540</th>\n",
       "      <td>540</td>\n",
       "      <td>127</td>\n",
       "      <td>Contact request submitted</td>\n",
       "      <td>open</td>\n",
       "      <td>Department and station data updates</td>\n",
       "      <td>2017-04-27 20:06:26</td>\n",
       "      <td>2017-08-11 13:33:41</td>\n",
       "      <td>286</td>\n",
       "    </tr>\n",
       "    <tr>\n",
       "      <th>537</th>\n",
       "      <td>537</td>\n",
       "      <td>134</td>\n",
       "      <td>FireCARES - New feedback received.</td>\n",
       "      <td>pending</td>\n",
       "      <td>Unassigned</td>\n",
       "      <td>2017-04-28 18:54:13</td>\n",
       "      <td>2017-06-16 12:53:02</td>\n",
       "      <td>285</td>\n",
       "    </tr>\n",
       "    <tr>\n",
       "      <th>535</th>\n",
       "      <td>535</td>\n",
       "      <td>148</td>\n",
       "      <td>Contact request submitted</td>\n",
       "      <td>pending</td>\n",
       "      <td>Unassigned</td>\n",
       "      <td>2017-05-01 16:18:03</td>\n",
       "      <td>2017-06-16 12:52:17</td>\n",
       "      <td>282</td>\n",
       "    </tr>\n",
       "    <tr>\n",
       "      <th>533</th>\n",
       "      <td>533</td>\n",
       "      <td>153</td>\n",
       "      <td>Contact request submitted</td>\n",
       "      <td>pending</td>\n",
       "      <td>Unassigned</td>\n",
       "      <td>2017-05-01 17:32:37</td>\n",
       "      <td>2017-06-16 12:53:30</td>\n",
       "      <td>282</td>\n",
       "    </tr>\n",
       "  </tbody>\n",
       "</table>\n",
       "</div>"
      ],
      "text/plain": [
       "     Unnamed: 0   id                             subject status_name  \\\n",
       "546         546  112           Contact request submitted     pending   \n",
       "540         540  127           Contact request submitted        open   \n",
       "537         537  134  FireCARES - New feedback received.     pending   \n",
       "535         535  148           Contact request submitted     pending   \n",
       "533         533  153           Contact request submitted     pending   \n",
       "\n",
       "                          assigned_group          created_at  \\\n",
       "546                           Unassigned 2017-04-25 14:46:36   \n",
       "540  Department and station data updates 2017-04-27 20:06:26   \n",
       "537                           Unassigned 2017-04-28 18:54:13   \n",
       "535                           Unassigned 2017-05-01 16:18:03   \n",
       "533                           Unassigned 2017-05-01 17:32:37   \n",
       "\n",
       "             updated_at  delta_days  \n",
       "546 2017-06-16 12:52:33         288  \n",
       "540 2017-08-11 13:33:41         286  \n",
       "537 2017-06-16 12:53:02         285  \n",
       "535 2017-06-16 12:52:17         282  \n",
       "533 2017-06-16 12:53:30         282  "
      ]
     },
     "execution_count": 78,
     "metadata": {},
     "output_type": "execute_result"
    }
   ],
   "source": [
    "not_closed_df = df.loc[(df['status_name'] != 'resolved')]\n",
    "date_today = datetime.today()\n",
    "\n",
    "not_closed_df['delta_days'] = abs(not_closed_df['created_at'] - date_today).astype('timedelta64[D]').astype('int')\n",
    "not_closed_df.sort_values(by='delta_days', ascending=False, inplace=True)\n",
    "not_closed_df.head()"
   ]
  },
  {
   "cell_type": "markdown",
   "metadata": {},
   "source": [
    "## Estimate closing time for resolved tickets"
   ]
  },
  {
   "cell_type": "code",
   "execution_count": 108,
   "metadata": {},
   "outputs": [
    {
     "data": {
      "text/html": [
       "<div>\n",
       "<style>\n",
       "    .dataframe thead tr:only-child th {\n",
       "        text-align: right;\n",
       "    }\n",
       "\n",
       "    .dataframe thead th {\n",
       "        text-align: left;\n",
       "    }\n",
       "\n",
       "    .dataframe tbody tr th {\n",
       "        vertical-align: top;\n",
       "    }\n",
       "</style>\n",
       "<table border=\"1\" class=\"dataframe\">\n",
       "  <thead>\n",
       "    <tr style=\"text-align: right;\">\n",
       "      <th></th>\n",
       "      <th>assigned_group</th>\n",
       "      <th>delta_hour</th>\n",
       "    </tr>\n",
       "  </thead>\n",
       "  <tbody>\n",
       "    <tr>\n",
       "      <th>0</th>\n",
       "      <td>Accounts</td>\n",
       "      <td>37.417808</td>\n",
       "    </tr>\n",
       "    <tr>\n",
       "      <th>1</th>\n",
       "      <td>Department and station data updates</td>\n",
       "      <td>492.946429</td>\n",
       "    </tr>\n",
       "    <tr>\n",
       "      <th>2</th>\n",
       "      <td>General Contact</td>\n",
       "      <td>141.031250</td>\n",
       "    </tr>\n",
       "    <tr>\n",
       "      <th>3</th>\n",
       "      <td>Unassigned</td>\n",
       "      <td>170.984252</td>\n",
       "    </tr>\n",
       "  </tbody>\n",
       "</table>\n",
       "</div>"
      ],
      "text/plain": [
       "                        assigned_group  delta_hour\n",
       "0                             Accounts   37.417808\n",
       "1  Department and station data updates  492.946429\n",
       "2                      General Contact  141.031250\n",
       "3                           Unassigned  170.984252"
      ]
     },
     "execution_count": 108,
     "metadata": {},
     "output_type": "execute_result"
    }
   ],
   "source": [
    "resolved_df = df.loc[(df['status_name'] == 'resolved')]\n",
    "resolved_df['delta_hour'] = abs(resolved_df['created_at'] - resolved_df['updated_at']).astype('timedelta64[h]')\n",
    "\n",
    "reduced_df = resolved_df[['assigned_group', 'delta_hour']]\n",
    "assigned_means_df = reduced_df.groupby(['assigned_group']).mean().reset_index()\n",
    "assigned_means_df.head()"
   ]
  },
  {
   "cell_type": "markdown",
   "metadata": {},
   "source": [
    "### Plotting results"
   ]
  },
  {
   "cell_type": "code",
   "execution_count": 113,
   "metadata": {},
   "outputs": [
    {
     "data": {
      "text/plain": [
       "<matplotlib.axes._subplots.AxesSubplot at 0x1119ee2b0>"
      ]
     },
     "execution_count": 113,
     "metadata": {},
     "output_type": "execute_result"
    },
    {
     "data": {
      "image/png": "[encoded data removed]",
      "text/plain": [
       "<matplotlib.figure.Figure at 0x111a13128>"
      ]
     },
     "metadata": {},
     "output_type": "display_data"
    }
   ],
   "source": [
    "plt.figure(figsize=(10,5))\n",
    "sns.barplot(assigned_means_df.assigned_group, assigned_means_df.delta_hour)"
   ]
  }
 ],
 "metadata": {
  "kernelspec": {
   "display_name": "Python 3",
   "language": "python",
   "name": "python3"
  },
  "language_info": {
   "codemirror_mode": {
    "name": "ipython",
    "version": 3
   },
   "file_extension": ".py",
   "mimetype": "text/x-python",
   "name": "python",
   "nbconvert_exporter": "python",
   "pygments_lexer": "ipython3",
   "version": "3.5.1"
  }
 },
 "nbformat": 4,
 "nbformat_minor": 2
}
